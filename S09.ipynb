{
 "cells": [
  {
   "cell_type": "markdown",
   "metadata": {},
   "source": [
    "### - Exercici 1\n",
    "\n",
    "Agafa un text en anglès que vulguis, i calcula'n la freqüència de les paraules"
   ]
  },
  {
   "cell_type": "markdown",
   "metadata": {},
   "source": [
    "Per aquest exercici faré servir part d'un article d'opinió sobre Qatar del diari The Guardian escrit per Nesrine Malik."
   ]
  },
  {
   "cell_type": "code",
   "execution_count": 2,
   "metadata": {
    "ExecuteTime": {
     "end_time": "2022-05-30T18:59:05.842358Z",
     "start_time": "2022-05-30T18:59:04.527475Z"
    },
    "collapsed": true
   },
   "outputs": [],
   "source": [
    "import nltk\n",
    "from nltk.tokenize import word_tokenize"
   ]
  },
  {
   "cell_type": "code",
   "execution_count": 3,
   "metadata": {
    "ExecuteTime": {
     "end_time": "2022-05-30T18:59:07.620725Z",
     "start_time": "2022-05-30T18:59:07.610702Z"
    },
    "collapsed": true
   },
   "outputs": [],
   "source": [
    "text = \"\"\"\n",
    "The 2022 World Cup was supposed to herald the arrival of Qatar, already an economic powerhouse, into the international arena as a legitimate cultural and political player. But so far, the opposite has happened. In an epic backfiring, all it seems to have achieved is focusing attention on the country’s abusive treatment of migrant workers and repression of LGBTQ+ people and women. Everything in Sunday’s opening ceremony – which the BBC remarkably chose not to broadcast, focusing instead on all that was wrong with Qatar 2022 – felt coloured by the buildup, precipitating an overall sense of enforced joyfulness. Even the generic welcoming words from the Qatari sovereign felt pared-back and pointed.\n",
    "\n",
    "On the face of it, the frenzy around this tournament has been the rare triumph of a human rights issue “cutting through” to the public. There’s just something about how the bid came about that put people off: it looked like money bending the world to its will, with the event being held in winter – in the middle of the European football season – and the use of cheap, exploited labour to build the facilities. Recent headlines including a World Cup ambassador describing homosexuality as a “damage in the mind” and the sight of a Danish journalist being forced off air, while broadcasting in a public space, seemed to confirm all this. High-profile footballers such as the former Bayern Munich and Germany player Philipp Lahm have said they will not be attending, while the Lionesses’ captain, Leah Williamson, has said she hasn’t “any interest” in such a compromised contest. Major European cities including Barcelona and Paris are not broadcasting matches in public places, and David Beckham, an ambassador for the event, came under intense pressure to withdraw from the proceedings.\n",
    "\n",
    "But there is something counter-productive and lopsided to the protests: the focus on the actions of sporting figures, players and even viewers seems off when Qatar only managed to manoeuvre itself into this prime position by soliciting the support of powerful states that have fast-tracked its passage into polite society. It is armed to the teeth by the UK, Europe and the US, and is a joint venturer in monumental, lucrative financial and real-estate transactions on European soil. The state of Qatar is the 10th largest landowner in Britain. Since it won the right to host the World Cup, it has been granted billions of pounds of weapons sales licences, including sophisticated surveillance equipment, by Britain.\n",
    "\n",
    "There is a special relationship with London in particular, and it can be seen in the Westminster ledger of declared gifts. In the runup to the World Cup, the value of Qatar’s gifts to British MPs was greater than the amount spent by all the other 15 countries whose governments made donations to British MPs combined. The Conservative MP David Mundell, the first openly gay Tory cabinet minister, accepted hospitality worth £7,473 from Qatar, and then, in a parliamentary debate a few months later, in response to concern raised by another MP about LGBTQ+ rights in Qatar, said that Qatar’s critics should “focus their energies on the handling of LGBT issues in professional football in the UK”.\n",
    "\"\"\""
   ]
  },
  {
   "cell_type": "markdown",
   "metadata": {},
   "source": [
    "Separem el text en paraules."
   ]
  },
  {
   "cell_type": "code",
   "execution_count": 4,
   "metadata": {
    "ExecuteTime": {
     "end_time": "2022-05-30T18:59:09.620620Z",
     "start_time": "2022-05-30T18:59:09.579406Z"
    }
   },
   "outputs": [
    {
     "name": "stdout",
     "output_type": "stream",
     "text": [
      "['The', '2022', 'World', 'Cup', 'was', 'supposed', 'to', 'herald', 'the', 'arrival', 'of', 'Qatar', ',', 'already', 'an', 'economic', 'powerhouse', ',', 'into', 'the', 'international', 'arena', 'as', 'a', 'legitimate', 'cultural', 'and', 'political', 'player', '.', 'But', 'so', 'far', ',', 'the', 'opposite', 'has', 'happened', '.', 'In', 'an', 'epic', 'backfiring', ',', 'all', 'it', 'seems', 'to', 'have', 'achieved', 'is', 'focusing', 'attention', 'on', 'the', 'country', '’', 's', 'abusive', 'treatment', 'of', 'migrant', 'workers', 'and', 'repression', 'of', 'LGBTQ+', 'people', 'and', 'women', '.', 'Everything', 'in', 'Sunday', '’', 's', 'opening', 'ceremony', '–', 'which', 'the', 'BBC', 'remarkably', 'chose', 'not', 'to', 'broadcast', ',', 'focusing', 'instead', 'on', 'all', 'that', 'was', 'wrong', 'with', 'Qatar', '2022', '–', 'felt', 'coloured', 'by', 'the', 'buildup', ',', 'precipitating', 'an', 'overall', 'sense', 'of', 'enforced', 'joyfulness', '.', 'Even', 'the', 'generic', 'welcoming', 'words', 'from', 'the', 'Qatari', 'sovereign', 'felt', 'pared-back', 'and', 'pointed', '.', 'On', 'the', 'face', 'of', 'it', ',', 'the', 'frenzy', 'around', 'this', 'tournament', 'has', 'been', 'the', 'rare', 'triumph', 'of', 'a', 'human', 'rights', 'issue', '“', 'cutting', 'through', '”', 'to', 'the', 'public', '.', 'There', '’', 's', 'just', 'something', 'about', 'how', 'the', 'bid', 'came', 'about', 'that', 'put', 'people', 'off', ':', 'it', 'looked', 'like', 'money', 'bending', 'the', 'world', 'to', 'its', 'will', ',', 'with', 'the', 'event', 'being', 'held', 'in', 'winter', '–', 'in', 'the', 'middle', 'of', 'the', 'European', 'football', 'season', '–', 'and', 'the', 'use', 'of', 'cheap', ',', 'exploited', 'labour', 'to', 'build', 'the', 'facilities', '.', 'Recent', 'headlines', 'including', 'a', 'World', 'Cup', 'ambassador', 'describing', 'homosexuality', 'as', 'a', '“', 'damage', 'in', 'the', 'mind', '”', 'and', 'the', 'sight', 'of', 'a', 'Danish', 'journalist', 'being', 'forced', 'off', 'air', ',', 'while', 'broadcasting', 'in', 'a', 'public', 'space', ',', 'seemed', 'to', 'confirm', 'all', 'this', '.', 'High-profile', 'footballers', 'such', 'as', 'the', 'former', 'Bayern', 'Munich', 'and', 'Germany', 'player', 'Philipp', 'Lahm', 'have', 'said', 'they', 'will', 'not', 'be', 'attending', ',', 'while', 'the', 'Lionesses', '’', 'captain', ',', 'Leah', 'Williamson', ',', 'has', 'said', 'she', 'hasn', '’', 't', '“', 'any', 'interest', '”', 'in', 'such', 'a', 'compromised', 'contest', '.', 'Major', 'European', 'cities', 'including', 'Barcelona', 'and', 'Paris', 'are', 'not', 'broadcasting', 'matches', 'in', 'public', 'places', ',', 'and', 'David', 'Beckham', ',', 'an', 'ambassador', 'for', 'the', 'event', ',', 'came', 'under', 'intense', 'pressure', 'to', 'withdraw', 'from', 'the', 'proceedings', '.', 'But', 'there', 'is', 'something', 'counter-productive', 'and', 'lopsided', 'to', 'the', 'protests', ':', 'the', 'focus', 'on', 'the', 'actions', 'of', 'sporting', 'figures', ',', 'players', 'and', 'even', 'viewers', 'seems', 'off', 'when', 'Qatar', 'only', 'managed', 'to', 'manoeuvre', 'itself', 'into', 'this', 'prime', 'position', 'by', 'soliciting', 'the', 'support', 'of', 'powerful', 'states', 'that', 'have', 'fast-tracked', 'its', 'passage', 'into', 'polite', 'society', '.', 'It', 'is', 'armed', 'to', 'the', 'teeth', 'by', 'the', 'UK', ',', 'Europe', 'and', 'the', 'US', ',', 'and', 'is', 'a', 'joint', 'venturer', 'in', 'monumental', ',', 'lucrative', 'financial', 'and', 'real-estate', 'transactions', 'on', 'European', 'soil', '.', 'The', 'state', 'of', 'Qatar', 'is', 'the', '10th', 'largest', 'landowner', 'in', 'Britain', '.', 'Since', 'it', 'won', 'the', 'right', 'to', 'host', 'the', 'World', 'Cup', ',', 'it', 'has', 'been', 'granted', 'billions', 'of', 'pounds', 'of', 'weapons', 'sales', 'licences', ',', 'including', 'sophisticated', 'surveillance', 'equipment', ',', 'by', 'Britain', '.', 'There', 'is', 'a', 'special', 'relationship', 'with', 'London', 'in', 'particular', ',', 'and', 'it', 'can', 'be', 'seen', 'in', 'the', 'Westminster', 'ledger', 'of', 'declared', 'gifts', '.', 'In', 'the', 'runup', 'to', 'the', 'World', 'Cup', ',', 'the', 'value', 'of', 'Qatar', '’', 's', 'gifts', 'to', 'British', 'MPs', 'was', 'greater', 'than', 'the', 'amount', 'spent', 'by', 'all', 'the', 'other', '15', 'countries', 'whose', 'governments', 'made', 'donations', 'to', 'British', 'MPs', 'combined', '.', 'The', 'Conservative', 'MP', 'David', 'Mundell', ',', 'the', 'first', 'openly', 'gay', 'Tory', 'cabinet', 'minister', ',', 'accepted', 'hospitality', 'worth', '£7,473', 'from', 'Qatar', ',', 'and', 'then', ',', 'in', 'a', 'parliamentary', 'debate', 'a', 'few', 'months', 'later', ',', 'in', 'response', 'to', 'concern', 'raised', 'by', 'another', 'MP', 'about', 'LGBTQ+', 'rights', 'in', 'Qatar', ',', 'said', 'that', 'Qatar', '’', 's', 'critics', 'should', '“', 'focus', 'their', 'energies', 'on', 'the', 'handling', 'of', 'LGBT', 'issues', 'in', 'professional', 'football', 'in', 'the', 'UK', '”', '.']\n"
     ]
    }
   ],
   "source": [
    "tokenized_word = word_tokenize(text)\n",
    "\n",
    "print(tokenized_word)"
   ]
  },
  {
   "cell_type": "markdown",
   "metadata": {
    "ExecuteTime": {
     "end_time": "2022-05-25T20:57:39.247239Z",
     "start_time": "2022-05-25T20:57:39.229598Z"
    }
   },
   "source": [
    "A continuació treurem els signes de puntuació."
   ]
  },
  {
   "cell_type": "code",
   "execution_count": 5,
   "metadata": {
    "ExecuteTime": {
     "end_time": "2022-05-30T18:59:14.132503Z",
     "start_time": "2022-05-30T18:59:14.116533Z"
    }
   },
   "outputs": [
    {
     "name": "stdout",
     "output_type": "stream",
     "text": [
      "['The', 'World', 'Cup', 'was', 'supposed', 'to', 'herald', 'the', 'arrival', 'of', 'Qatar', 'already', 'an', 'economic', 'powerhouse', 'into', 'the', 'international', 'arena', 'as', 'a', 'legitimate', 'cultural', 'and', 'political', 'player', 'But', 'so', 'far', 'the', 'opposite', 'has', 'happened', 'In', 'an', 'epic', 'backfiring', 'all', 'it', 'seems', 'to', 'have', 'achieved', 'is', 'focusing', 'attention', 'on', 'the', 'country', 's', 'abusive', 'treatment', 'of', 'migrant', 'workers', 'and', 'repression', 'of', 'people', 'and', 'women', 'Everything', 'in', 'Sunday', 's', 'opening', 'ceremony', 'which', 'the', 'BBC', 'remarkably', 'chose', 'not', 'to', 'broadcast', 'focusing', 'instead', 'on', 'all', 'that', 'was', 'wrong', 'with', 'Qatar', 'felt', 'coloured', 'by', 'the', 'buildup', 'precipitating', 'an', 'overall', 'sense', 'of', 'enforced', 'joyfulness', 'Even', 'the', 'generic', 'welcoming', 'words', 'from', 'the', 'Qatari', 'sovereign', 'felt', 'and', 'pointed', 'On', 'the', 'face', 'of', 'it', 'the', 'frenzy', 'around', 'this', 'tournament', 'has', 'been', 'the', 'rare', 'triumph', 'of', 'a', 'human', 'rights', 'issue', 'cutting', 'through', 'to', 'the', 'public', 'There', 's', 'just', 'something', 'about', 'how', 'the', 'bid', 'came', 'about', 'that', 'put', 'people', 'off', 'it', 'looked', 'like', 'money', 'bending', 'the', 'world', 'to', 'its', 'will', 'with', 'the', 'event', 'being', 'held', 'in', 'winter', 'in', 'the', 'middle', 'of', 'the', 'European', 'football', 'season', 'and', 'the', 'use', 'of', 'cheap', 'exploited', 'labour', 'to', 'build', 'the', 'facilities', 'Recent', 'headlines', 'including', 'a', 'World', 'Cup', 'ambassador', 'describing', 'homosexuality', 'as', 'a', 'damage', 'in', 'the', 'mind', 'and', 'the', 'sight', 'of', 'a', 'Danish', 'journalist', 'being', 'forced', 'off', 'air', 'while', 'broadcasting', 'in', 'a', 'public', 'space', 'seemed', 'to', 'confirm', 'all', 'this', 'footballers', 'such', 'as', 'the', 'former', 'Bayern', 'Munich', 'and', 'Germany', 'player', 'Philipp', 'Lahm', 'have', 'said', 'they', 'will', 'not', 'be', 'attending', 'while', 'the', 'Lionesses', 'captain', 'Leah', 'Williamson', 'has', 'said', 'she', 'hasn', 't', 'any', 'interest', 'in', 'such', 'a', 'compromised', 'contest', 'Major', 'European', 'cities', 'including', 'Barcelona', 'and', 'Paris', 'are', 'not', 'broadcasting', 'matches', 'in', 'public', 'places', 'and', 'David', 'Beckham', 'an', 'ambassador', 'for', 'the', 'event', 'came', 'under', 'intense', 'pressure', 'to', 'withdraw', 'from', 'the', 'proceedings', 'But', 'there', 'is', 'something', 'and', 'lopsided', 'to', 'the', 'protests', 'the', 'focus', 'on', 'the', 'actions', 'of', 'sporting', 'figures', 'players', 'and', 'even', 'viewers', 'seems', 'off', 'when', 'Qatar', 'only', 'managed', 'to', 'manoeuvre', 'itself', 'into', 'this', 'prime', 'position', 'by', 'soliciting', 'the', 'support', 'of', 'powerful', 'states', 'that', 'have', 'its', 'passage', 'into', 'polite', 'society', 'It', 'is', 'armed', 'to', 'the', 'teeth', 'by', 'the', 'UK', 'Europe', 'and', 'the', 'US', 'and', 'is', 'a', 'joint', 'venturer', 'in', 'monumental', 'lucrative', 'financial', 'and', 'transactions', 'on', 'European', 'soil', 'The', 'state', 'of', 'Qatar', 'is', 'the', 'largest', 'landowner', 'in', 'Britain', 'Since', 'it', 'won', 'the', 'right', 'to', 'host', 'the', 'World', 'Cup', 'it', 'has', 'been', 'granted', 'billions', 'of', 'pounds', 'of', 'weapons', 'sales', 'licences', 'including', 'sophisticated', 'surveillance', 'equipment', 'by', 'Britain', 'There', 'is', 'a', 'special', 'relationship', 'with', 'London', 'in', 'particular', 'and', 'it', 'can', 'be', 'seen', 'in', 'the', 'Westminster', 'ledger', 'of', 'declared', 'gifts', 'In', 'the', 'runup', 'to', 'the', 'World', 'Cup', 'the', 'value', 'of', 'Qatar', 's', 'gifts', 'to', 'British', 'MPs', 'was', 'greater', 'than', 'the', 'amount', 'spent', 'by', 'all', 'the', 'other', 'countries', 'whose', 'governments', 'made', 'donations', 'to', 'British', 'MPs', 'combined', 'The', 'Conservative', 'MP', 'David', 'Mundell', 'the', 'first', 'openly', 'gay', 'Tory', 'cabinet', 'minister', 'accepted', 'hospitality', 'worth', 'from', 'Qatar', 'and', 'then', 'in', 'a', 'parliamentary', 'debate', 'a', 'few', 'months', 'later', 'in', 'response', 'to', 'concern', 'raised', 'by', 'another', 'MP', 'about', 'rights', 'in', 'Qatar', 'said', 'that', 'Qatar', 's', 'critics', 'should', 'focus', 'their', 'energies', 'on', 'the', 'handling', 'of', 'LGBT', 'issues', 'in', 'professional', 'football', 'in', 'the', 'UK']\n"
     ]
    }
   ],
   "source": [
    "only_words_tokenized = [word for word in tokenized_word if word.isalpha()]\n",
    "print(only_words_tokenized)"
   ]
  },
  {
   "cell_type": "markdown",
   "metadata": {},
   "source": [
    "#### Freqüència"
   ]
  },
  {
   "cell_type": "code",
   "execution_count": 6,
   "metadata": {
    "ExecuteTime": {
     "end_time": "2022-05-30T18:59:18.220737Z",
     "start_time": "2022-05-30T18:59:18.208266Z"
    }
   },
   "outputs": [
    {
     "name": "stdout",
     "output_type": "stream",
     "text": [
      "<FreqDist with 294 samples and 516 outcomes>\n"
     ]
    }
   ],
   "source": [
    "from nltk.probability import FreqDist\n",
    "\n",
    "fdist = FreqDist(only_words_tokenized)\n",
    "print(fdist)"
   ]
  },
  {
   "cell_type": "markdown",
   "metadata": {},
   "source": [
    "El text té 516 paraules, de les quales 294 son úniques."
   ]
  },
  {
   "cell_type": "markdown",
   "metadata": {},
   "source": [
    "Ara mostrarem les paraules que es repeteixen amb més freqüència."
   ]
  },
  {
   "cell_type": "code",
   "execution_count": 7,
   "metadata": {
    "ExecuteTime": {
     "end_time": "2022-05-30T18:59:20.267668Z",
     "start_time": "2022-05-30T18:59:20.246646Z"
    }
   },
   "outputs": [
    {
     "data": {
      "text/plain": [
       "[('the', 44),\n",
       " ('of', 17),\n",
       " ('to', 16),\n",
       " ('and', 16),\n",
       " ('in', 16),\n",
       " ('a', 11),\n",
       " ('Qatar', 8),\n",
       " ('it', 6),\n",
       " ('is', 6),\n",
       " ('by', 6)]"
      ]
     },
     "execution_count": 7,
     "metadata": {},
     "output_type": "execute_result"
    }
   ],
   "source": [
    "fdist.most_common(10)"
   ]
  },
  {
   "cell_type": "markdown",
   "metadata": {},
   "source": [
    "Ho veiem en un format més clar."
   ]
  },
  {
   "cell_type": "code",
   "execution_count": 8,
   "metadata": {
    "ExecuteTime": {
     "end_time": "2022-05-30T18:59:25.275238Z",
     "start_time": "2022-05-30T18:59:25.266737Z"
    }
   },
   "outputs": [
    {
     "name": "stdout",
     "output_type": "stream",
     "text": [
      "  the    of    to   and    in     a Qatar    it    is    by \n",
      "   44    17    16    16    16    11     8     6     6     6 \n"
     ]
    }
   ],
   "source": [
    "fdist.tabulate(10)"
   ]
  },
  {
   "cell_type": "markdown",
   "metadata": {},
   "source": [
    "A continuació farem una gràfica amb les paraules més comunes."
   ]
  },
  {
   "cell_type": "code",
   "execution_count": 9,
   "metadata": {
    "ExecuteTime": {
     "end_time": "2022-05-30T18:59:27.843094Z",
     "start_time": "2022-05-30T18:59:26.929826Z"
    }
   },
   "outputs": [
    {
     "data": {
      "image/png": "[encoded data removed]",
      "text/plain": [
       "<Figure size 720x576 with 1 Axes>"
      ]
     },
     "metadata": {
      "needs_background": "light"
     },
     "output_type": "display_data"
    }
   ],
   "source": [
    "import matplotlib.pyplot as plt\n",
    "\n",
    "plt.figure(figsize=(10,8))\n",
    "fdist.plot(30,cumulative=False, color = 'm', linewidth = 4)\n",
    "plt.show()"
   ]
  },
  {
   "cell_type": "markdown",
   "metadata": {},
   "source": [
    "### Nivell 2\n",
    "\n",
    "#### - Exercici 1\n",
    "\n",
    "Treu les stopwords i realitza stemming al teu conjunt de dades."
   ]
  },
  {
   "cell_type": "markdown",
   "metadata": {},
   "source": [
    "Primer establirem les stopwords en anglés."
   ]
  },
  {
   "cell_type": "code",
   "execution_count": 10,
   "metadata": {
    "ExecuteTime": {
     "end_time": "2022-05-30T18:59:32.749647Z",
     "start_time": "2022-05-30T18:59:32.712775Z"
    }
   },
   "outputs": [
    {
     "name": "stdout",
     "output_type": "stream",
     "text": [
      "{'himself', 'when', \"aren't\", 'isn', 'ourselves', 'before', 'these', 'don', 'on', 'only', 'has', 'me', 'few', \"mightn't\", 'he', 'above', 'now', 'there', \"hadn't\", 'why', 'will', 'wouldn', 'further', 'd', 'won', 'by', 'myself', 'i', 'is', \"that'll\", 'as', 'you', 'been', 'just', 'was', 'yourself', 'then', 'weren', 'hers', 'more', \"you'll\", 'below', 'doesn', 'what', 'not', 'and', 'whom', 'same', \"wasn't\", 'both', 'being', 'than', 'at', 's', 'do', 'because', 'of', 'how', \"don't\", 'that', 'haven', 'out', 'can', \"didn't\", 'mustn', 'about', 'm', 'each', 'its', 'the', 'again', \"she's\", 'here', 'itself', 'off', 'some', 'but', 'any', 'have', 'theirs', 'y', \"wouldn't\", 'am', 'while', 'wasn', 'no', 'a', \"haven't\", 'we', 'didn', 'with', 'ma', 'mightn', 't', 'did', 'hasn', \"shan't\", 'an', 'they', 'are', \"isn't\", 'them', 'if', 'be', 'our', 'll', 'over', 'couldn', 'against', 'those', 'it', 'your', 'their', 'ain', 'too', 'shan', 'her', \"you'd\", 'who', 'themselves', 'doing', 'up', 'his', \"couldn't\", 'other', 'yours', 'were', \"weren't\", 'most', \"won't\", 'in', 'very', 'such', \"hasn't\", 'does', \"doesn't\", 'should', 'having', 'for', \"you've\", 'she', 'between', 'where', 'all', 'nor', \"mustn't\", 'had', 'needn', 'ours', 'after', 'during', 're', 'into', \"needn't\", 'or', 'o', 'down', 'shouldn', 'aren', 'own', 'from', 'hadn', 've', 'so', 'which', 'this', \"it's\", 'through', \"you're\", 'under', 'him', 'to', 'once', 'my', 'yourselves', \"should've\", 'until', \"shouldn't\", 'herself'}\n"
     ]
    }
   ],
   "source": [
    "from nltk.corpus import stopwords\n",
    "\n",
    "stop_words = set(stopwords.words(\"english\"))\n",
    "print(stop_words)"
   ]
  },
  {
   "cell_type": "markdown",
   "metadata": {},
   "source": [
    "Ara eliminarem aquestes paraules del nostre text, ja sigui en majúscules o minúscules:"
   ]
  },
  {
   "cell_type": "code",
   "execution_count": 11,
   "metadata": {
    "ExecuteTime": {
     "end_time": "2022-05-30T19:00:04.374739Z",
     "start_time": "2022-05-30T19:00:04.356928Z"
    }
   },
   "outputs": [
    {
     "name": "stdout",
     "output_type": "stream",
     "text": [
      "['World', 'Cup', 'supposed', 'herald', 'arrival', 'Qatar', 'already', 'economic', 'powerhouse', 'international', 'arena', 'legitimate', 'cultural', 'political', 'player', 'far', 'opposite', 'happened', 'epic', 'backfiring', 'seems', 'achieved', 'focusing', 'attention', 'country', 'abusive', 'treatment', 'migrant', 'workers', 'repression', 'people', 'women', 'Everything', 'Sunday', 'opening', 'ceremony', 'BBC', 'remarkably', 'chose', 'broadcast', 'focusing', 'instead', 'wrong', 'Qatar', 'felt', 'coloured', 'buildup', 'precipitating', 'overall', 'sense', 'enforced', 'joyfulness', 'Even', 'generic', 'welcoming', 'words', 'Qatari', 'sovereign', 'felt', 'pointed', 'face', 'frenzy', 'around', 'tournament', 'rare', 'triumph', 'human', 'rights', 'issue', 'cutting', 'public', 'something', 'bid', 'came', 'put', 'people', 'looked', 'like', 'money', 'bending', 'world', 'event', 'held', 'winter', 'middle', 'European', 'football', 'season', 'use', 'cheap', 'exploited', 'labour', 'build', 'facilities', 'Recent', 'headlines', 'including', 'World', 'Cup', 'ambassador', 'describing', 'homosexuality', 'damage', 'mind', 'sight', 'Danish', 'journalist', 'forced', 'air', 'broadcasting', 'public', 'space', 'seemed', 'confirm', 'footballers', 'former', 'Bayern', 'Munich', 'Germany', 'player', 'Philipp', 'Lahm', 'said', 'attending', 'Lionesses', 'captain', 'Leah', 'Williamson', 'said', 'interest', 'compromised', 'contest', 'Major', 'European', 'cities', 'including', 'Barcelona', 'Paris', 'broadcasting', 'matches', 'public', 'places', 'David', 'Beckham', 'ambassador', 'event', 'came', 'intense', 'pressure', 'withdraw', 'proceedings', 'something', 'lopsided', 'protests', 'focus', 'actions', 'sporting', 'figures', 'players', 'even', 'viewers', 'seems', 'Qatar', 'managed', 'manoeuvre', 'prime', 'position', 'soliciting', 'support', 'powerful', 'states', 'passage', 'polite', 'society', 'armed', 'teeth', 'UK', 'Europe', 'US', 'joint', 'venturer', 'monumental', 'lucrative', 'financial', 'transactions', 'European', 'soil', 'state', 'Qatar', 'largest', 'landowner', 'Britain', 'Since', 'right', 'host', 'World', 'Cup', 'granted', 'billions', 'pounds', 'weapons', 'sales', 'licences', 'including', 'sophisticated', 'surveillance', 'equipment', 'Britain', 'special', 'relationship', 'London', 'particular', 'seen', 'Westminster', 'ledger', 'declared', 'gifts', 'runup', 'World', 'Cup', 'value', 'Qatar', 'gifts', 'British', 'MPs', 'greater', 'amount', 'spent', 'countries', 'whose', 'governments', 'made', 'donations', 'British', 'MPs', 'combined', 'Conservative', 'MP', 'David', 'Mundell', 'first', 'openly', 'gay', 'Tory', 'cabinet', 'minister', 'accepted', 'hospitality', 'worth', 'Qatar', 'parliamentary', 'debate', 'months', 'later', 'response', 'concern', 'raised', 'another', 'MP', 'rights', 'Qatar', 'said', 'Qatar', 'critics', 'focus', 'energies', 'handling', 'LGBT', 'issues', 'professional', 'football', 'UK']\n"
     ]
    }
   ],
   "source": [
    "filtered_text = [w for w in only_words_tokenized if w.lower() not in stop_words]\n",
    "print(filtered_text)"
   ]
  },
  {
   "cell_type": "code",
   "execution_count": 12,
   "metadata": {
    "ExecuteTime": {
     "end_time": "2022-05-30T19:00:06.274830Z",
     "start_time": "2022-05-30T19:00:06.262434Z"
    }
   },
   "outputs": [
    {
     "data": {
      "text/plain": [
       "272"
      ]
     },
     "execution_count": 12,
     "metadata": {},
     "output_type": "execute_result"
    }
   ],
   "source": [
    "len(filtered_text)"
   ]
  },
  {
   "cell_type": "code",
   "execution_count": 13,
   "metadata": {},
   "outputs": [
    {
     "name": "stdout",
     "output_type": "stream",
     "text": [
      "<FreqDist with 231 samples and 272 outcomes>\n"
     ]
    }
   ],
   "source": [
    "fdist = FreqDist(filtered_text)\n",
    "print(fdist)"
   ]
  },
  {
   "cell_type": "code",
   "execution_count": null,
   "metadata": {
    "collapsed": true
   },
   "outputs": [],
   "source": [
    "Ens queden 231 paraules úniques de 272 en total."
   ]
  },
  {
   "cell_type": "code",
   "execution_count": 14,
   "metadata": {},
   "outputs": [
    {
     "data": {
      "text/plain": [
       "[('Qatar', 8),\n",
       " ('World', 4),\n",
       " ('Cup', 4),\n",
       " ('public', 3),\n",
       " ('European', 3),\n",
       " ('including', 3),\n",
       " ('said', 3),\n",
       " ('player', 2),\n",
       " ('seems', 2),\n",
       " ('focusing', 2)]"
      ]
     },
     "execution_count": 14,
     "metadata": {},
     "output_type": "execute_result"
    }
   ],
   "source": [
    "fdist.most_common(10)"
   ]
  },
  {
   "cell_type": "markdown",
   "metadata": {},
   "source": [
    "Veiem quines son les mes comunes i comprovem que la majoria, excepte Qatar, no coincideixen amb las del text anterior sense filtrar les stopwords."
   ]
  },
  {
   "cell_type": "code",
   "execution_count": 16,
   "metadata": {},
   "outputs": [
    {
     "name": "stdout",
     "output_type": "stream",
     "text": [
      "    Qatar     World       Cup    public  European including      said    player     seems  focusing \n",
      "        8         4         4         3         3         3         3         2         2         2 \n"
     ]
    }
   ],
   "source": [
    "fdist.tabulate(10)"
   ]
  },
  {
   "cell_type": "markdown",
   "metadata": {},
   "source": [
    "Com veiem ara la paraula Qatar esdevé la més comuna de totes."
   ]
  },
  {
   "cell_type": "code",
   "execution_count": 15,
   "metadata": {},
   "outputs": [
    {
     "data": {
      "image/png": "[encoded data removed]",
      "text/plain": [
       "<Figure size 720x576 with 1 Axes>"
      ]
     },
     "metadata": {
      "needs_background": "light"
     },
     "output_type": "display_data"
    }
   ],
   "source": [
    "plt.figure(figsize=(10,8))\n",
    "fdist.plot(30,cumulative=False, color = 'm', linewidth = 4)\n",
    "plt.show()"
   ]
  },
  {
   "cell_type": "markdown",
   "metadata": {},
   "source": [
    "#### Stemming\n",
    "\n",
    "Stemming és un procés de normalització lingüística, que redueix les paraules a la seva paraula arrel o talla els afixos de derivació."
   ]
  },
  {
   "cell_type": "markdown",
   "metadata": {},
   "source": [
    "A continuació fem stemming del text filtrat anteriorment."
   ]
  },
  {
   "cell_type": "code",
   "execution_count": 29,
   "metadata": {
    "ExecuteTime": {
     "end_time": "2022-05-30T19:01:00.382688Z",
     "start_time": "2022-05-30T19:01:00.375388Z"
    }
   },
   "outputs": [
    {
     "name": "stdout",
     "output_type": "stream",
     "text": [
      "Filtered Text: ['World', 'Cup', 'supposed', 'herald', 'arrival', 'Qatar', 'already', 'economic', 'powerhouse', 'international', 'arena', 'legitimate', 'cultural', 'political', 'player', 'far', 'opposite', 'happened', 'epic', 'backfiring', 'seems', 'achieved', 'focusing', 'attention', 'country', 'abusive', 'treatment', 'migrant', 'workers', 'repression', 'people', 'women', 'Everything', 'Sunday', 'opening', 'ceremony', 'BBC', 'remarkably', 'chose', 'broadcast', 'focusing', 'instead', 'wrong', 'Qatar', 'felt', 'coloured', 'buildup', 'precipitating', 'overall', 'sense', 'enforced', 'joyfulness', 'Even', 'generic', 'welcoming', 'words', 'Qatari', 'sovereign', 'felt', 'pointed', 'face', 'frenzy', 'around', 'tournament', 'rare', 'triumph', 'human', 'rights', 'issue', 'cutting', 'public', 'something', 'bid', 'came', 'put', 'people', 'looked', 'like', 'money', 'bending', 'world', 'event', 'held', 'winter', 'middle', 'European', 'football', 'season', 'use', 'cheap', 'exploited', 'labour', 'build', 'facilities', 'Recent', 'headlines', 'including', 'World', 'Cup', 'ambassador', 'describing', 'homosexuality', 'damage', 'mind', 'sight', 'Danish', 'journalist', 'forced', 'air', 'broadcasting', 'public', 'space', 'seemed', 'confirm', 'footballers', 'former', 'Bayern', 'Munich', 'Germany', 'player', 'Philipp', 'Lahm', 'said', 'attending', 'Lionesses', 'captain', 'Leah', 'Williamson', 'said', 'interest', 'compromised', 'contest', 'Major', 'European', 'cities', 'including', 'Barcelona', 'Paris', 'broadcasting', 'matches', 'public', 'places', 'David', 'Beckham', 'ambassador', 'event', 'came', 'intense', 'pressure', 'withdraw', 'proceedings', 'something', 'lopsided', 'protests', 'focus', 'actions', 'sporting', 'figures', 'players', 'even', 'viewers', 'seems', 'Qatar', 'managed', 'manoeuvre', 'prime', 'position', 'soliciting', 'support', 'powerful', 'states', 'passage', 'polite', 'society', 'armed', 'teeth', 'UK', 'Europe', 'US', 'joint', 'venturer', 'monumental', 'lucrative', 'financial', 'transactions', 'European', 'soil', 'state', 'Qatar', 'largest', 'landowner', 'Britain', 'Since', 'right', 'host', 'World', 'Cup', 'granted', 'billions', 'pounds', 'weapons', 'sales', 'licences', 'including', 'sophisticated', 'surveillance', 'equipment', 'Britain', 'special', 'relationship', 'London', 'particular', 'seen', 'Westminster', 'ledger', 'declared', 'gifts', 'runup', 'World', 'Cup', 'value', 'Qatar', 'gifts', 'British', 'MPs', 'greater', 'amount', 'spent', 'countries', 'whose', 'governments', 'made', 'donations', 'British', 'MPs', 'combined', 'Conservative', 'MP', 'David', 'Mundell', 'first', 'openly', 'gay', 'Tory', 'cabinet', 'minister', 'accepted', 'hospitality', 'worth', 'Qatar', 'parliamentary', 'debate', 'months', 'later', 'response', 'concern', 'raised', 'another', 'MP', 'rights', 'Qatar', 'said', 'Qatar', 'critics', 'focus', 'energies', 'handling', 'LGBT', 'issues', 'professional', 'football', 'UK']\n",
      "______________________________________________________________________________________________________________________________\n",
      " \n",
      "Stemmed Text: ['world', 'cup', 'suppos', 'herald', 'arriv', 'qatar', 'alreadi', 'econom', 'powerhous', 'intern', 'arena', 'legitim', 'cultur', 'polit', 'player', 'far', 'opposit', 'happen', 'epic', 'backfir', 'seem', 'achiev', 'focus', 'attent', 'countri', 'abus', 'treatment', 'migrant', 'worker', 'repress', 'peopl', 'women', 'everyth', 'sunday', 'open', 'ceremoni', 'bbc', 'remark', 'chose', 'broadcast', 'focus', 'instead', 'wrong', 'qatar', 'felt', 'colour', 'buildup', 'precipit', 'overal', 'sens', 'enforc', 'joy', 'even', 'gener', 'welcom', 'word', 'qatari', 'sovereign', 'felt', 'point', 'face', 'frenzi', 'around', 'tournament', 'rare', 'triumph', 'human', 'right', 'issu', 'cut', 'public', 'someth', 'bid', 'came', 'put', 'peopl', 'look', 'like', 'money', 'bend', 'world', 'event', 'held', 'winter', 'middl', 'european', 'footbal', 'season', 'use', 'cheap', 'exploit', 'labour', 'build', 'facil', 'recent', 'headlin', 'includ', 'world', 'cup', 'ambassador', 'describ', 'homosexu', 'damag', 'mind', 'sight', 'danish', 'journalist', 'forc', 'air', 'broadcast', 'public', 'space', 'seem', 'confirm', 'footbal', 'former', 'bayern', 'munich', 'germani', 'player', 'philipp', 'lahm', 'said', 'attend', 'lioness', 'captain', 'leah', 'williamson', 'said', 'interest', 'compromis', 'contest', 'major', 'european', 'citi', 'includ', 'barcelona', 'pari', 'broadcast', 'match', 'public', 'place', 'david', 'beckham', 'ambassador', 'event', 'came', 'intens', 'pressur', 'withdraw', 'proceed', 'someth', 'lopsid', 'protest', 'focu', 'action', 'sport', 'figur', 'player', 'even', 'viewer', 'seem', 'qatar', 'manag', 'manoeuvr', 'prime', 'posit', 'solicit', 'support', 'power', 'state', 'passag', 'polit', 'societi', 'arm', 'teeth', 'uk', 'europ', 'us', 'joint', 'ventur', 'monument', 'lucr', 'financi', 'transact', 'european', 'soil', 'state', 'qatar', 'largest', 'landown', 'britain', 'sinc', 'right', 'host', 'world', 'cup', 'grant', 'billion', 'pound', 'weapon', 'sale', 'licenc', 'includ', 'sophist', 'surveil', 'equip', 'britain', 'special', 'relationship', 'london', 'particular', 'seen', 'westminst', 'ledger', 'declar', 'gift', 'runup', 'world', 'cup', 'valu', 'qatar', 'gift', 'british', 'mp', 'greater', 'amount', 'spent', 'countri', 'whose', 'govern', 'made', 'donat', 'british', 'mp', 'combin', 'conserv', 'mp', 'david', 'mundel', 'first', 'openli', 'gay', 'tori', 'cabinet', 'minist', 'accept', 'hospit', 'worth', 'qatar', 'parliamentari', 'debat', 'month', 'later', 'respons', 'concern', 'rais', 'anoth', 'mp', 'right', 'qatar', 'said', 'qatar', 'critic', 'focu', 'energi', 'handl', 'lgbt', 'issu', 'profession', 'footbal', 'uk']\n"
     ]
    }
   ],
   "source": [
    "from nltk.stem import PorterStemmer\n",
    "\n",
    "ps = PorterStemmer()\n",
    "\n",
    "stemmed_words = []\n",
    "\n",
    "for word in filtered_text: \n",
    "    stemmed_words.append(ps.stem(word))\n",
    "    \n",
    "\n",
    "print(\"Filtered Text:\",filtered_text)\n",
    "print(\"______________________________________________________________________________________________________________________________\")\n",
    "print(\" \")\n",
    "print(\"Stemmed Text:\",stemmed_words)\n"
   ]
  },
  {
   "cell_type": "markdown",
   "metadata": {},
   "source": [
    "Imprimim el text sense stopwords al costat del text per apreciar les diferències de les paraules."
   ]
  },
  {
   "cell_type": "markdown",
   "metadata": {},
   "source": [
    "### Nivell 3\n",
    "\n",
    "### - Exercici 1\n",
    "\n",
    "Realitza sentiment analysis al teu conjunt de dades."
   ]
  },
  {
   "cell_type": "markdown",
   "metadata": {},
   "source": [
    "Podem fer una anàlisi de sentiments per a tot el text:"
   ]
  },
  {
   "cell_type": "code",
   "execution_count": 28,
   "metadata": {
    "ExecuteTime": {
     "end_time": "2022-05-29T16:40:30.520314Z",
     "start_time": "2022-05-29T16:40:30.448482Z"
    }
   },
   "outputs": [
    {
     "data": {
      "text/plain": [
       "{'neg': 0.063, 'neu': 0.842, 'pos': 0.095, 'compound': 0.9559}"
      ]
     },
     "execution_count": 28,
     "metadata": {},
     "output_type": "execute_result"
    }
   ],
   "source": [
    "from nltk.sentiment.vader import SentimentIntensityAnalyzer\n",
    "\n",
    "# we use the original text\n",
    "sentiment = SentimentIntensityAnalyzer()\n",
    "sentiment.polarity_scores(text)"
   ]
  },
  {
   "cell_type": "markdown",
   "metadata": {},
   "source": [
    "Això retorna un diccionari amb els percentatges de paraules negatives, neutres i positives, i el resultat final, el compost 0,9841, ens indica que l'anàlisi és positiva.\n",
    "\n",
    "La puntuació composta és la suma de puntuacions positives, negatives i neutres que després es normalitzen entre -1 (negatiu més extrem) i +1 (positiu més extrem). Com  més propera estigui la puntuació composta a +1, més positiu serà el text i com més s'apropi a -1 més negatiu."
   ]
  },
  {
   "cell_type": "code",
   "execution_count": 29,
   "metadata": {
    "ExecuteTime": {
     "end_time": "2022-05-29T16:40:32.297227Z",
     "start_time": "2022-05-29T16:40:32.291195Z"
    },
    "collapsed": true
   },
   "outputs": [],
   "source": [
    "sent_dict = sentiment.polarity_scores(text)"
   ]
  },
  {
   "cell_type": "code",
   "execution_count": 30,
   "metadata": {
    "ExecuteTime": {
     "end_time": "2022-05-29T16:40:34.481956Z",
     "start_time": "2022-05-29T16:40:34.424002Z"
    }
   },
   "outputs": [
    {
     "name": "stdout",
     "output_type": "stream",
     "text": [
      "El text global és:  {'neg': 0.063, 'neu': 0.842, 'pos': 0.095, 'compound': 0.9559}\n",
      "El text s'ha valorat com  6.3 % Negatiu\n",
      "El text s'ha valorat com  84.2 % Neutral\n",
      "El text s'ha valorat com  9.5 % Positiu\n",
      "El text global s'ha valorat com  Positive  amb una puntuació de  0.9559 .\n"
     ]
    }
   ],
   "source": [
    "def sent_score(): \n",
    "    \n",
    "    if sent_dict['compound'] >= 0.05 :\n",
    "        return 'Positive'\n",
    "    elif sent_dict['compound'] <= - 0.05 :\n",
    "        return 'Negative'\n",
    "    else :\n",
    "        return 'Neutral'\n",
    "\n",
    "result = sent_score()\n",
    "\n",
    "print(\"El text global és: \", sent_dict)\n",
    "print(\"El text s'ha valorat com \", sent_dict['neg']*100, \"% Negatiu\")\n",
    "print(\"El text s'ha valorat com \", sent_dict['neu']*100, \"% Neutral\")\n",
    "print(\"El text s'ha valorat com \", sent_dict['pos']*100, \"% Positiu\")\n",
    "\n",
    "print(\"El text global s'ha valorat com \",result, \" amb una puntuació de \", sent_dict['compound'], \".\")\n"
   ]
  },
  {
   "cell_type": "markdown",
   "metadata": {},
   "source": [
    "#### Anàlisi de sentiments sobre frases individuals del text:"
   ]
  },
  {
   "cell_type": "markdown",
   "metadata": {},
   "source": [
    "També podem analitzar individualment les frases del text:"
   ]
  },
  {
   "cell_type": "markdown",
   "metadata": {},
   "source": [
    "primer dividim el text en frases"
   ]
  },
  {
   "cell_type": "code",
   "execution_count": 33,
   "metadata": {
    "ExecuteTime": {
     "end_time": "2022-05-29T16:49:47.745229Z",
     "start_time": "2022-05-29T16:49:47.726981Z"
    }
   },
   "outputs": [
    {
     "data": {
      "text/plain": [
       "['\\nThe 2022 World Cup was supposed to herald the arrival of Qatar, already an economic powerhouse, into the international arena as a legitimate cultural and political player.',\n",
       " 'But so far, the opposite has happened.',\n",
       " 'In an epic backfiring, all it seems to have achieved is focusing attention on the country’s abusive treatment of migrant workers and repression of LGBTQ+ people and women.',\n",
       " 'Everything in Sunday’s opening ceremony – which the BBC remarkably chose not to broadcast, focusing instead on all that was wrong with Qatar 2022 – felt coloured by the buildup, precipitating an overall sense of enforced joyfulness.',\n",
       " 'Even the generic welcoming words from the Qatari sovereign felt pared-back and pointed.',\n",
       " 'On the face of it, the frenzy around this tournament has been the rare triumph of a human rights issue “cutting through” to the public.',\n",
       " 'There’s just something about how the bid came about that put people off: it looked like money bending the world to its will, with the event being held in winter – in the middle of the European football season – and the use of cheap, exploited labour to build the facilities.',\n",
       " 'Recent headlines including a World Cup ambassador describing homosexuality as a “damage in the mind” and the sight of a Danish journalist being forced off air, while broadcasting in a public space, seemed to confirm all this.',\n",
       " 'High-profile footballers such as the former Bayern Munich and Germany player Philipp Lahm have said they will not be attending, while the Lionesses’ captain, Leah Williamson, has said she hasn’t “any interest” in such a compromised contest.',\n",
       " 'Major European cities including Barcelona and Paris are not broadcasting matches in public places, and David Beckham, an ambassador for the event, came under intense pressure to withdraw from the proceedings.',\n",
       " 'But there is something counter-productive and lopsided to the protests: the focus on the actions of sporting figures, players and even viewers seems off when Qatar only managed to manoeuvre itself into this prime position by soliciting the support of powerful states that have fast-tracked its passage into polite society.',\n",
       " 'It is armed to the teeth by the UK, Europe and the US, and is a joint venturer in monumental, lucrative financial and real-estate transactions on European soil.',\n",
       " 'The state of Qatar is the 10th largest landowner in Britain.',\n",
       " 'Since it won the right to host the World Cup, it has been granted billions of pounds of weapons sales licences, including sophisticated surveillance equipment, by Britain.',\n",
       " 'There is a special relationship with London in particular, and it can be seen in the Westminster ledger of declared gifts.',\n",
       " 'In the runup to the World Cup, the value of Qatar’s gifts to British MPs was greater than the amount spent by all the other 15 countries whose governments made donations to British MPs combined.',\n",
       " 'The Conservative MP David Mundell, the first openly gay Tory cabinet minister, accepted hospitality worth £7,473 from Qatar, and then, in a parliamentary debate a few months later, in response to concern raised by another MP about LGBTQ+ rights in Qatar, said that Qatar’s critics should “focus their energies on the handling of LGBT issues in professional football in the UK”.']"
      ]
     },
     "execution_count": 33,
     "metadata": {},
     "output_type": "execute_result"
    }
   ],
   "source": [
    "sentences = nltk.sent_tokenize(text)\n",
    "sentences"
   ]
  },
  {
   "cell_type": "markdown",
   "metadata": {},
   "source": [
    "A continuació apliquem l'anàlisi de sentiments individualment a cada frase del text"
   ]
  },
  {
   "cell_type": "code",
   "execution_count": 34,
   "metadata": {
    "ExecuteTime": {
     "end_time": "2022-05-29T17:09:17.586194Z",
     "start_time": "2022-05-29T17:09:17.487670Z"
    },
    "scrolled": false
   },
   "outputs": [
    {
     "name": "stdout",
     "output_type": "stream",
     "text": [
      "\n",
      "The 2022 World Cup was supposed to herald the arrival of Qatar, already an economic powerhouse, into the international arena as a legitimate cultural and political player.\n",
      "\n",
      "compound: 0.0, \n",
      "neg: 0.0, \n",
      "neu: 1.0, \n",
      "pos: 0.0, \n",
      "\n",
      "------------------------------------------------------------------------------\n",
      "\n",
      "\n",
      "But so far, the opposite has happened.\n",
      "\n",
      "compound: 0.0, \n",
      "neg: 0.0, \n",
      "neu: 1.0, \n",
      "pos: 0.0, \n",
      "\n",
      "------------------------------------------------------------------------------\n",
      "\n",
      "\n",
      "In an epic backfiring, all it seems to have achieved is focusing attention on the country’s abusive treatment of migrant workers and repression of LGBTQ+ people and women.\n",
      "\n",
      "compound: -0.7783, \n",
      "neg: 0.207, \n",
      "neu: 0.793, \n",
      "pos: 0.0, \n",
      "\n",
      "------------------------------------------------------------------------------\n",
      "\n",
      "\n",
      "Everything in Sunday’s opening ceremony – which the BBC remarkably chose not to broadcast, focusing instead on all that was wrong with Qatar 2022 – felt coloured by the buildup, precipitating an overall sense of enforced joyfulness.\n",
      "\n",
      "compound: 0.1531, \n",
      "neg: 0.078, \n",
      "neu: 0.829, \n",
      "pos: 0.093, \n",
      "\n",
      "------------------------------------------------------------------------------\n",
      "\n",
      "\n",
      "Even the generic welcoming words from the Qatari sovereign felt pared-back and pointed.\n",
      "\n",
      "compound: 0.4404, \n",
      "neg: 0.0, \n",
      "neu: 0.805, \n",
      "pos: 0.195, \n",
      "\n",
      "------------------------------------------------------------------------------\n",
      "\n",
      "\n",
      "On the face of it, the frenzy around this tournament has been the rare triumph of a human rights issue “cutting through” to the public.\n",
      "\n",
      "compound: 0.2023, \n",
      "neg: 0.084, \n",
      "neu: 0.803, \n",
      "pos: 0.113, \n",
      "\n",
      "------------------------------------------------------------------------------\n",
      "\n",
      "\n",
      "There’s just something about how the bid came about that put people off: it looked like money bending the world to its will, with the event being held in winter – in the middle of the European football season – and the use of cheap, exploited labour to build the facilities.\n",
      "\n",
      "compound: -0.128, \n",
      "neg: 0.057, \n",
      "neu: 0.895, \n",
      "pos: 0.048, \n",
      "\n",
      "------------------------------------------------------------------------------\n",
      "\n",
      "\n",
      "Recent headlines including a World Cup ambassador describing homosexuality as a “damage in the mind” and the sight of a Danish journalist being forced off air, while broadcasting in a public space, seemed to confirm all this.\n",
      "\n",
      "compound: -0.4588, \n",
      "neg: 0.086, \n",
      "neu: 0.914, \n",
      "pos: 0.0, \n",
      "\n",
      "------------------------------------------------------------------------------\n",
      "\n",
      "\n",
      "High-profile footballers such as the former Bayern Munich and Germany player Philipp Lahm have said they will not be attending, while the Lionesses’ captain, Leah Williamson, has said she hasn’t “any interest” in such a compromised contest.\n",
      "\n",
      "compound: 0.0, \n",
      "neg: 0.0, \n",
      "neu: 1.0, \n",
      "pos: 0.0, \n",
      "\n",
      "------------------------------------------------------------------------------\n",
      "\n",
      "\n",
      "Major European cities including Barcelona and Paris are not broadcasting matches in public places, and David Beckham, an ambassador for the event, came under intense pressure to withdraw from the proceedings.\n",
      "\n",
      "compound: -0.2263, \n",
      "neg: 0.068, \n",
      "neu: 0.892, \n",
      "pos: 0.04, \n",
      "\n",
      "------------------------------------------------------------------------------\n",
      "\n",
      "\n",
      "But there is something counter-productive and lopsided to the protests: the focus on the actions of sporting figures, players and even viewers seems off when Qatar only managed to manoeuvre itself into this prime position by soliciting the support of powerful states that have fast-tracked its passage into polite society.\n",
      "\n",
      "compound: 0.7096, \n",
      "neg: 0.042, \n",
      "neu: 0.83, \n",
      "pos: 0.128, \n",
      "\n",
      "------------------------------------------------------------------------------\n",
      "\n",
      "\n",
      "It is armed to the teeth by the UK, Europe and the US, and is a joint venturer in monumental, lucrative financial and real-estate transactions on European soil.\n",
      "\n",
      "compound: 0.0, \n",
      "neg: 0.0, \n",
      "neu: 1.0, \n",
      "pos: 0.0, \n",
      "\n",
      "------------------------------------------------------------------------------\n",
      "\n",
      "\n",
      "The state of Qatar is the 10th largest landowner in Britain.\n",
      "\n",
      "compound: 0.0, \n",
      "neg: 0.0, \n",
      "neu: 1.0, \n",
      "pos: 0.0, \n",
      "\n",
      "------------------------------------------------------------------------------\n",
      "\n",
      "\n",
      "Since it won the right to host the World Cup, it has been granted billions of pounds of weapons sales licences, including sophisticated surveillance equipment, by Britain.\n",
      "\n",
      "compound: 0.7506, \n",
      "neg: 0.082, \n",
      "neu: 0.653, \n",
      "pos: 0.264, \n",
      "\n",
      "------------------------------------------------------------------------------\n",
      "\n",
      "\n",
      "There is a special relationship with London in particular, and it can be seen in the Westminster ledger of declared gifts.\n",
      "\n",
      "compound: 0.4019, \n",
      "neg: 0.0, \n",
      "neu: 0.876, \n",
      "pos: 0.124, \n",
      "\n",
      "------------------------------------------------------------------------------\n",
      "\n",
      "\n",
      "In the runup to the World Cup, the value of Qatar’s gifts to British MPs was greater than the amount spent by all the other 15 countries whose governments made donations to British MPs combined.\n",
      "\n",
      "compound: 0.5994, \n",
      "neg: 0.0, \n",
      "neu: 0.871, \n",
      "pos: 0.129, \n",
      "\n",
      "------------------------------------------------------------------------------\n",
      "\n",
      "\n",
      "The Conservative MP David Mundell, the first openly gay Tory cabinet minister, accepted hospitality worth £7,473 from Qatar, and then, in a parliamentary debate a few months later, in response to concern raised by another MP about LGBTQ+ rights in Qatar, said that Qatar’s critics should “focus their energies on the handling of LGBT issues in professional football in the UK”.\n",
      "\n",
      "compound: 0.4019, \n",
      "neg: 0.035, \n",
      "neu: 0.872, \n",
      "pos: 0.094, \n",
      "\n",
      "------------------------------------------------------------------------------\n",
      "\n",
      "\n"
     ]
    }
   ],
   "source": [
    "for sentence in sentences: \n",
    "    sentiment = SentimentIntensityAnalyzer()\n",
    "    print(sentence)\n",
    "    print('')\n",
    "    scores = sentiment.polarity_scores(sentence)\n",
    "    for i in sorted (scores): \n",
    "        print('{0}: {1}, '.format(i, scores[i]), end='\\n')\n",
    "    print('')\n",
    "    print('------------------------------------------------------------------------------')\n",
    "    print('\\n')"
   ]
  },
  {
   "cell_type": "markdown",
   "metadata": {},
   "source": [
    "Finalment farem una anàlisi de sentiments per al text filtrat, a veure si ens varia el resultat."
   ]
  },
  {
   "cell_type": "code",
   "execution_count": 31,
   "metadata": {
    "collapsed": true
   },
   "outputs": [],
   "source": [
    "filtered_text_str = ' '.join(filtered_text)"
   ]
  },
  {
   "cell_type": "code",
   "execution_count": 32,
   "metadata": {},
   "outputs": [
    {
     "data": {
      "text/plain": [
       "{'neg': 0.101, 'neu': 0.769, 'pos': 0.13, 'compound': 0.7906}"
      ]
     },
     "execution_count": 32,
     "metadata": {},
     "output_type": "execute_result"
    }
   ],
   "source": [
    "# Fem servir el text filtrat\n",
    "sentiment = SentimentIntensityAnalyzer()\n",
    "sentiment.polarity_scores(filtered_text_str)"
   ]
  },
  {
   "cell_type": "code",
   "execution_count": 33,
   "metadata": {
    "collapsed": true
   },
   "outputs": [],
   "source": [
    "sent_dict = sentiment.polarity_scores(filtered_text_str)"
   ]
  },
  {
   "cell_type": "code",
   "execution_count": 34,
   "metadata": {},
   "outputs": [
    {
     "name": "stdout",
     "output_type": "stream",
     "text": [
      "El text global és:  {'neg': 0.101, 'neu': 0.769, 'pos': 0.13, 'compound': 0.7906}\n",
      "El text s'ha valorat com  10.100000000000001 % Negatiu\n",
      "El text s'ha valorat com  76.9 % Neutral\n",
      "El text s'ha valorat com  13.0 % Positiu\n",
      "El text global s'ha valorat com  Positive  amb una puntuació de  0.7906 .\n"
     ]
    }
   ],
   "source": [
    "result = sent_score()\n",
    "\n",
    "print(\"El text global és: \", sent_dict)\n",
    "print(\"El text s'ha valorat com \", sent_dict['neg']*100, \"% Negatiu\")\n",
    "print(\"El text s'ha valorat com \", sent_dict['neu']*100, \"% Neutral\")\n",
    "print(\"El text s'ha valorat com \", sent_dict['pos']*100, \"% Positiu\")\n",
    "\n",
    "print(\"El text global s'ha valorat com \",result, \" amb una puntuació de \", sent_dict['compound'], \".\")"
   ]
  },
  {
   "cell_type": "markdown",
   "metadata": {},
   "source": [
    "Com podem veure encara que el resultat final és el mateix, el global és més positiu que no pas negatiu, si ens han canviat els percentatges. "
   ]
  },
  {
   "cell_type": "code",
   "execution_count": null,
   "metadata": {
    "collapsed": true
   },
   "outputs": [],
   "source": []
  }
 ],
 "metadata": {
  "kernelspec": {
   "display_name": "Python 3",
   "language": "python",
   "name": "python3"
  },
  "language_info": {
   "codemirror_mode": {
    "name": "ipython",
    "version": 3
   },
   "file_extension": ".py",
   "mimetype": "text/x-python",
   "name": "python",
   "nbconvert_exporter": "python",
   "pygments_lexer": "ipython3",
   "version": "3.6.1"
  }
 },
 "nbformat": 4,
 "nbformat_minor": 5
}
